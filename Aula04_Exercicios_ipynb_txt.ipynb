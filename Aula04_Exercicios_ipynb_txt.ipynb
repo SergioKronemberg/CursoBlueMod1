{
  "nbformat": 4,
  "nbformat_minor": 0,
  "metadata": {
    "colab": {
      "name": "Aula04_Exercicios.ipynb.txt",
      "provenance": [],
      "collapsed_sections": [],
      "include_colab_link": true
    },
    "kernelspec": {
      "name": "python3",
      "display_name": "Python 3"
    },
    "language_info": {
      "name": "python"
    }
  },
  "cells": [
    {
      "cell_type": "markdown",
      "metadata": {
        "id": "view-in-github",
        "colab_type": "text"
      },
      "source": [
        "<a href=\"https://colab.research.google.com/github/SergioKronemberg/CursoBlueMod1/blob/main/Aula04_Exercicios_ipynb_txt.ipynb\" target=\"_parent\"><img src=\"https://colab.research.google.com/assets/colab-badge.svg\" alt=\"Open In Colab\"/></a>"
      ]
    },
    {
      "cell_type": "markdown",
      "metadata": {
        "id": "DptQTkwqN7v9"
      },
      "source": [
        "# Exercícios de Aquecimento\n",
        "\n",
        "## Exercício 01\n",
        "Elabore um programa que imprima na tela a seguinte frase `Olá Mundo! Esse é o meu primeiro programa`"
      ]
    },
    {
      "cell_type": "code",
      "metadata": {
        "id": "fu-Hvxg7OT64",
        "colab": {
          "base_uri": "https://localhost:8080/"
        },
        "outputId": "63c2c650-dcc0-4463-9e44-17152b3ea7fb"
      },
      "source": [
        "print(\"Olá Mundo! Esse é meu primeiro programa desse curso\")"
      ],
      "execution_count": null,
      "outputs": [
        {
          "output_type": "stream",
          "text": [
            "Olá Mundo! Esse é meu primeiro programa desse curso\n"
          ],
          "name": "stdout"
        }
      ]
    },
    {
      "cell_type": "markdown",
      "metadata": {
        "id": "HYnPLbl2OfuE"
      },
      "source": [
        "## Exercício 02\n",
        "Elabore um programa que escreve seu nome completo na primeira linha, seu endereço na segunda e o CEP e telefone na terceira.  \n",
        "\n",
        "**Exemplo:**\n",
        "```\n",
        "Nome: Bruno Fabri\n",
        "Endereço: Rua ABC\n",
        "CEP: 002220-010\n",
        "```"
      ]
    },
    {
      "cell_type": "code",
      "metadata": {
        "id": "sUrmuOzbO5Cd",
        "colab": {
          "base_uri": "https://localhost:8080/"
        },
        "outputId": "22ed2840-5f41-4dc9-cfc6-d5bef8bc63bc"
      },
      "source": [
        "print(\"Nome: Sergio\\nEndereço: Rua dos Ingleses\\nCEP: 01329000\\nTelefone: 11977258765\")\n",
        "#igual \\n ou as 3 's\n",
        "print(\"\"\"\n",
        "Nome: Sergio\n",
        "Endereço: Rua dos Ingleses\n",
        "CEP: 01329000\n",
        "\"\"\")"
      ],
      "execution_count": null,
      "outputs": [
        {
          "output_type": "stream",
          "text": [
            "Nome: Sergio\n",
            "Endereço: Rua dos Ingleses\n",
            "CEP: 01329000\n",
            "Telefone: 11977258765\n",
            "\n",
            "Nome: Sergio\n",
            "Endereço: Rua dos Ingleses\n",
            "CEP: 01329000\n",
            "\n"
          ],
          "name": "stdout"
        }
      ]
    },
    {
      "cell_type": "markdown",
      "metadata": {
        "id": "5XVY0cvwP1WX"
      },
      "source": [
        "## Exercício 03\n",
        "Elabore um programa que recebe o nome de uma pessoa do terminal e mostra a seguinte mensagem: `Olá {nome}! Seja bem vindo ao fantástico mundo da programação`"
      ]
    },
    {
      "cell_type": "code",
      "metadata": {
        "id": "VDfwe6OSQM0M",
        "colab": {
          "base_uri": "https://localhost:8080/"
        },
        "outputId": "26fc1380-f33c-4279-bb9e-47b07834eb09"
      },
      "source": [
        "nome=input(\"Como prefere ser chamado?\")\n",
        "print(\"Olá\", nome+\"! Seja bem vindo ao fantástico mundo da programação\")\n",
        "#igual posso usar o format\n",
        "print(\"Olá {}! Seja bem vindo\".format(nome))\n",
        "#igual replace\n",
        "print(\"Olá {}! Seja bem vindo\".replace(\"{}\", nome))\n",
        "#format abreviado,  açucar sintatico, kk\n",
        "print(f\"Olá {nome}! Seja bem vindo\")"
      ],
      "execution_count": null,
      "outputs": [
        {
          "output_type": "stream",
          "text": [
            "Como prefere ser chamado?Sergio\n",
            "Olá Sergio! Seja bem vindo ao fantástico mundo da programação\n",
            "Olá Sergio! Seja bem vindo\n",
            "Olá Sergio! Seja bem vindo\n",
            "Olá Sergio! Seja bem vindo\n"
          ],
          "name": "stdout"
        }
      ]
    },
    {
      "cell_type": "markdown",
      "metadata": {
        "id": "1Nb29agVQc3k"
      },
      "source": [
        "## Exercício 04\n",
        "Elabore um programa que recebe dois valores inteiros e mostra a soma desses valores\n",
        "\n",
        "**Exemplo:**\n",
        "\n",
        "```\n",
        "Primeiro Valor = 2\n",
        "Segundo Valor = 3\n",
        "Soma = 5\n",
        "```"
      ]
    },
    {
      "cell_type": "code",
      "metadata": {
        "id": "a6_BwVwRROmH",
        "colab": {
          "base_uri": "https://localhost:8080/"
        },
        "outputId": "9d6450eb-686c-4864-9874-c8098d2896c6"
      },
      "source": [
        "n1=int(input('insira o 1º num'))\n",
        "n2=int(input('insira o 2º num'))\n",
        "print(\"Soma =\", n1 + n2)\n",
        "soma=n1+n2\n",
        "print(\"Soma =\", soma)\n",
        "#se for decimal float, facil trocar"
      ],
      "execution_count": null,
      "outputs": [
        {
          "output_type": "stream",
          "text": [
            "insira o 1º num1\n",
            "insira o 2º num2\n",
            "Soma = 3\n",
            "Soma = 3\n"
          ],
          "name": "stdout"
        }
      ]
    },
    {
      "cell_type": "markdown",
      "metadata": {
        "id": "4HQxR3FTTbSr"
      },
      "source": [
        "## Exercício 05\n",
        "Elabore um programa que recebe dois valores inteiros e mostra se o primeiro valor é maior ou igual ao segundo valor\n",
        "\n",
        "**Exemplo:**\n",
        "```\n",
        "Primeiro Valor = 3\n",
        "Segundo Valor = 2\n",
        "Resultado = True\n",
        "```"
      ]
    },
    {
      "cell_type": "code",
      "metadata": {
        "id": "OXISQASdTeSW",
        "colab": {
          "base_uri": "https://localhost:8080/"
        },
        "outputId": "358cfa9a-48b4-48c2-8428-7f456c2490ea"
      },
      "source": [
        "n3=int(input('insira o 1º num'))\n",
        "n4=int(input('insira o 2º num'))\n",
        "print(n3 >= n4)\n"
      ],
      "execution_count": null,
      "outputs": [
        {
          "output_type": "stream",
          "text": [
            "insira o 1º num2\n",
            "insira o 2º num1\n",
            "True\n"
          ],
          "name": "stdout"
        }
      ]
    },
    {
      "cell_type": "markdown",
      "metadata": {
        "id": "Gn8rHPn3UCnc"
      },
      "source": [
        "## Exercício 06\n",
        "Elabore um programa que recebe o seu nome, endereço e hobby e mostra cada uma das informações da seguinte forma:\n",
        "- Nome -> Letra maiúscula\n",
        "- Endereço -> Letra minúscula\n",
        "- Hobby -> Primeira letra maiúscula\n",
        "\n",
        "**Exemplo Entrada:**\n",
        "```\n",
        "Nome: bruno fabri\n",
        "Endereço: Rua ABC\n",
        "Hobby: jogar cs\n",
        "```\n",
        "\n",
        "**Exemplo Saída:**\n",
        "```\n",
        "Nome: BRUNO FABRI\n",
        "Endereço: rua abc\n",
        "Hobby: Jogar cs\n",
        "```"
      ]
    },
    {
      "cell_type": "code",
      "metadata": {
        "id": "ZIj-PGVZVVP6",
        "colab": {
          "base_uri": "https://localhost:8080/"
        },
        "outputId": "1b3861ba-ecb4-47ce-d3dd-7e7f0e8fcd76"
      },
      "source": [
        "input(\"nome\").upper())\n",
        "input(\"endereço\").lower())\n",
        "input(\"hobby\").capitalize())\n",
        "\n",
        "print(f\"Nome: \"{nome})\n",
        "print(f\"Endereço: \"{endereço})\n",
        "print(f\"Hobby: \"{hobby})"
      ],
      "execution_count": 30,
      "outputs": [
        {
          "output_type": "stream",
          "text": [
            "nomesergio\n",
            "SERGIO\n",
            "endereçocerto\n",
            "certo\n",
            "hobbycerto\n",
            "Certo\n"
          ],
          "name": "stdout"
        }
      ]
    },
    {
      "cell_type": "markdown",
      "metadata": {
        "id": "wlvmEAPQNrcL"
      },
      "source": [
        "# Mini Projetos"
      ]
    },
    {
      "cell_type": "markdown",
      "metadata": {
        "id": "W8zwueNBKh4B"
      },
      "source": [
        "## Mini Projeto 01 - Conversor de Moeda\n",
        "Vamos construir um programa que irá converter moedas do real para o dólar e do dólar para o real. Vamos considerar que `$ 1,00 = R$ 5,75`\n",
        "\n",
        "### Parte 1\n",
        "Faça o conversor de moeda receber o valor em real e mostrar o valor convertido para dólar no formato `$ XXXX.XX`\n",
        "\n",
        "**Exemplo:**\n",
        "\n",
        "```\n",
        "Valor em R$ = 1000\n",
        "Valor em $ = $ 173.91\n",
        "```\n",
        "\n",
        "### Parte 2\n",
        "Altere o conversor de moedas para receber o valor em dólar, converter para real e mostrar o resultado no formato `R$ XXXX.XX`\n",
        "\n",
        "**Exemplo:**\n",
        "```\n",
        "Valor em $ = 1000\n",
        "Valor em R$ = R$ 5750.00\n",
        "```"
      ]
    },
    {
      "cell_type": "code",
      "metadata": {
        "id": "mRQ9fpIgMp5Z",
        "colab": {
          "base_uri": "https://localhost:8080/"
        },
        "outputId": "bd5f58e6-ae68-4fb5-9550-fefd52ae16ec"
      },
      "source": [
        "real = float(input('valor em real:'))\n",
        "\n",
        "print('valor em dolar: $$', real/5.75)\n",
        "\n",
        "dolar = float(input('valor em dolar '))\n",
        "\n",
        "print('valor em real: R$', dolar*5.75)\n",
        "\n",
        "\n"
      ],
      "execution_count": 48,
      "outputs": [
        {
          "output_type": "stream",
          "text": [
            "valor em real:1\n",
            "valor em dolar: $$ 0.17391304347826086\n",
            "valor em dolar 2\n",
            "valor em real: R$ 11.5\n"
          ],
          "name": "stdout"
        }
      ]
    },
    {
      "cell_type": "markdown",
      "metadata": {
        "id": "0NmAiF2DV_ju"
      },
      "source": [
        "## Mini Projeto 02 - Calculadora de aumento de aluguel\n",
        "Vamos construir um programa que irá calcular o aumento anual do seu aluguel em duas partes:\n",
        "\n",
        "### Parte 1\n",
        "A sua calculadora vai receber o `valor do aluguel` e calcular o aumento baseado no `IGPM de 31%`. A calculadora deve apresentar o aluguel reajustado no formato `R$ XXXX.XX`\n",
        "\n",
        "**Exemplo:**\n",
        "```\n",
        "Valor do aluguel = 1000\n",
        "Valor do aluguel reajustado = R$ 1310,00\n",
        "```\n",
        "\n",
        "### Parte 2\n",
        "Agora, altere sua calculadora para receber além do `valor do aluguel`, o percentual do reajuste no formato `XX%`.  \n",
        "\n",
        "**Dica:** Descubra uma forma de transformar o percentual recebido em um número para efetuar o cálculo.\n",
        "\n",
        "**Exemplo:**\n",
        "```\n",
        "Valor do aluguel = 1000\n",
        "Percentual do reajuste = 31%\n",
        "Valor do aluguel reajustado = R% 1310,00\n",
        "```"
      ]
    },
    {
      "cell_type": "code",
      "metadata": {
        "id": "0eHzSCyaGkYJ"
      },
      "source": [
        "aluguel = float(input('valor do aluguel: '))\n",
        "\n",
        "print('valor do aluguel reajustado: R$', aluguel+aluguel*0.31)\n",
        "\n",
        "aluguel = float(input('valor do aluguel:'))\n",
        "percentual = float(input('valor do percentual '))\n",
        "\n",
        "print('valor reajustado', aluguel+percentual/100*aluguel)\n",
        "\n"
      ],
      "execution_count": null,
      "outputs": []
    },
    {
      "cell_type": "markdown",
      "metadata": {
        "id": "xN88sUuMOG46"
      },
      "source": [
        "## Mini Projeto 03 - Calculadora de dano\n",
        "Vamos implementar a calculadora de dano de RPG!!\n",
        "\n",
        "### Parte 1\n",
        "O programa vai receber a `vida e um monstro (entre 10 e 50)` e o `valor do ataque do jogador por turno (entre 5 e 10)`\n",
        "\n",
        "Baseado nos valores, exiba a quantidade de turnos que o jogador irá demorar para conseguir derrotar o monstro.\n",
        "\n",
        "**Exemplo:**\n",
        "```\n",
        "Vida de um monstro (entre 10 e 50): 26\n",
        "Valor do ataque do jogador por turno (entre 5 e 10): 5\n",
        "Resultado: O jogador irá precisar de 6 turnos para derrotar o monstro.\n",
        "```\n",
        "\n",
        "### Parte 2\n",
        "Altere o programa para ao invés de receber a vida do monstro, gerar aleatoriamente um valor entre 10 e 50."
      ]
    },
    {
      "cell_type": "code",
      "metadata": {
        "id": "Mrpz9UomQH2P"
      },
      "source": [
        "vida = int(input('Vida de um monstro (entre 10 e 50): '))\n",
        "while vida < 10 or vida > 50:\n",
        "  vida=input(\"Vida de um monstro (entre 10 e 50): \")\n",
        "   \n",
        "ataque = int(input('Valor do ataque do jogador por turno (entre 5 e 10): '))\n",
        "while ataque < 5 or ataque > 10:\n",
        "  ataque=int(input(\"entre 5 e 10:\"))\n",
        "\n",
        "turno= vida // ataque\n",
        "if vida % ataque > 0:\n",
        "  turno = turno + 1\n",
        "print(f'Resultado: O jogador irá precisar de {vida//ataque+arredondamento} turnos para derrotar o monstro.')\n",
        "\n",
        "\n",
        "import random\n",
        "vitalidade = random.randrange(10,50)\n",
        "dano = int(input('Valor do ataque do jogador por turno (entre 5 e 10):'))\n",
        "turno=vitalidade//dano\n",
        "if vitalidade % dano > 0:\n",
        "  turno = turno + 1 \n",
        "\n",
        "print(f'Vida do Monstro {vitalidade}\\nResultado: O jogador irá precisar de {turno} turnos para derrotar o monstro.')\n",
        "\n"
      ],
      "execution_count": null,
      "outputs": []
    }
  ]
}