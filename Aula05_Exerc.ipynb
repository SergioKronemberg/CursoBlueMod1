{
  "nbformat": 4,
  "nbformat_minor": 0,
  "metadata": {
    "colab": {
      "name": "Aula05_Exerc.ipynb",
      "provenance": [],
      "collapsed_sections": [],
      "authorship_tag": "ABX9TyN5gZ9bOqJ9Xn6MiGNMJLeI",
      "include_colab_link": true
    },
    "kernelspec": {
      "name": "python3",
      "display_name": "Python 3"
    },
    "language_info": {
      "name": "python"
    }
  },
  "cells": [
    {
      "cell_type": "markdown",
      "metadata": {
        "id": "view-in-github",
        "colab_type": "text"
      },
      "source": [
        "<a href=\"https://colab.research.google.com/github/SergioKronemberg/CursoBlueMod1/blob/main/Aula05_Exerc.ipynb\" target=\"_parent\"><img src=\"https://colab.research.google.com/assets/colab-badge.svg\" alt=\"Open In Colab\"/></a>"
      ]
    },
    {
      "cell_type": "code",
      "metadata": {
        "colab": {
          "base_uri": "https://localhost:8080/"
        },
        "id": "iSobdot5qcdF",
        "outputId": "b5c925e6-38eb-4bad-ce11-1423ed1faefa"
      },
      "source": [
        "#Faça um Programa que leia três números inteiros, em seguida mostre o maior e o menor deles\n",
        "\n",
        "n1= int(input(\"1º\"))\n",
        "n2= int(input(\"2º\"))\n",
        "n3= int(input(\"3º\"))\n",
        "\n",
        "if n1 > n2 and n1 > n3:\n",
        "  maior = n1\n",
        "elif n2 > n3 and n2 > n1:\n",
        "  maior = n2\n",
        "elif n3 > n1 and n3 > n2:\n",
        "  maior = n3\n",
        "\n",
        "if n1 < n2 and n1 < n3:\n",
        "  menor = n1\n",
        "elif n2 < n1 and n2 < n3:\n",
        "  menor = n2\n",
        "elif n3 < n1 and n3 < n2:\n",
        "  menor = n3\n",
        "\n",
        "print(f\" O maior é o {maior}, e o menor é o {menor}\")#kkk\n",
        "\n",
        "\n",
        "'''outra forma\n",
        "maior = n1\n",
        "\n",
        "if n2 > maior:\n",
        "  maior = n2\n",
        "if n3 > maior:\n",
        "  maior = n3\n",
        "\n",
        "menor = n1\n",
        "\n",
        "if n2 < menor:\n",
        "  menor = n2\n",
        "if n3 < menor:\n",
        "  menor = n3\n",
        "\n",
        "print(f\" O maior é o {maior}, e o menor é o {menor}\")'''"
      ],
      "execution_count": 9,
      "outputs": [
        {
          "output_type": "stream",
          "text": [
            "1º3\n",
            "2º6\n",
            "3º8\n",
            "Maior:  8\n",
            "3\n"
          ],
          "name": "stdout"
        }
      ]
    },
    {
      "cell_type": "code",
      "metadata": {
        "id": "ZzuCF6Azz96L",
        "colab": {
          "base_uri": "https://localhost:8080/"
        },
        "outputId": "03ad6718-e9ac-442c-aaa9-f418f766c95a"
      },
      "source": [
        "#Faça um programa que peça dois números e imprima o maior deles\n",
        "\n",
        "v1=float(input(\"1º\"))\n",
        "v2=float(input(\"2º\"))\n",
        "\n",
        "if v1 > v2:\n",
        "  maior = v1\n",
        "else:\n",
        "  maior = v2\n",
        "\n",
        "print(f\"O maior é o {maior}\")"
      ],
      "execution_count": 13,
      "outputs": [
        {
          "output_type": "stream",
          "text": [
            "1º7\n",
            "2º8\n",
            " O maior é o 8.0\n"
          ],
          "name": "stdout"
        }
      ]
    },
    {
      "cell_type": "code",
      "metadata": {
        "id": "OD_127KQzo2W",
        "colab": {
          "base_uri": "https://localhost:8080/"
        },
        "outputId": "428932c0-b5a8-423d-94ce-932a40cf726c"
      },
      "source": [
        "#Faça um script que peça um valor e mostre na tela se o valor é positivo ou negativo.\n",
        "p1=float(input(\"Insira um número que eu te digo se é positivo: \"))\n",
        "if p1 > 0:\n",
        "  print(\"Positivo! energias boas estão por vir\")\n",
        "else:\n",
        "  print(\"não seja negativo, não desanime!\")\n",
        "  p2=float(input(\"Quer tentar denovo? insira outro número: \"))\n",
        "  if p2 == p1:\n",
        "   print(\"Você podia ter tentado outro número pelo menos\")\n",
        "  elif p2 <= 0:\n",
        "   print(\"Tudo bem! mas não seja tão negativo da próxima vez\")\n",
        "  elif p2 > 0:\n",
        "   print(\"Positivo! energias boas estão por vir\")"
      ],
      "execution_count": 36,
      "outputs": [
        {
          "output_type": "stream",
          "text": [
            "Insira um numero que eu te digo se é positivo:-9\n",
            "não seja negativo, não desanime!\n",
            "Quer tentar denovo? insira um numero3\n",
            "Positivo! energias boas estão por vir\n"
          ],
          "name": "stdout"
        }
      ]
    },
    {
      "cell_type": "code",
      "metadata": {
        "colab": {
          "base_uri": "https://localhost:8080/"
        },
        "id": "5chzFF1cEf8J",
        "outputId": "e6c6b4e3-e4a2-4c69-d788-56758c26e454"
      },
      "source": [
        "#Crie um programa que verifique se uma letra digitada é \"F\" ou \"M\". Conforme a letra escrever: F - Feminino, M - Masculino, Sexo Inválido.\n",
        "S1=input(\"Qual seu genêro: \").upper()\n",
        "if S1[0] == \"F\":\n",
        "  print(\"F - Feminino\") \n",
        "elif S1[0] == \"M\":\n",
        "  print(\"M - Masculino\")\n",
        "else:\n",
        "   print(\"Sexo inválido\")"
      ],
      "execution_count": 53,
      "outputs": [
        {
          "output_type": "stream",
          "text": [
            "Qual seu genêro:mas\n",
            "M - Masculino\n"
          ],
          "name": "stdout"
        }
      ]
    },
    {
      "cell_type": "code",
      "metadata": {
        "colab": {
          "base_uri": "https://localhost:8080/"
        },
        "id": "xL2GaDaDJA-H",
        "outputId": "b94f0b1c-9164-4e49-ef26-fe860a50ddae"
      },
      "source": [
        "'''- Crie um programa em Python que peça a nota do aluno, que deve ser um float entre 0.00 e 10.0\n",
        "•\tSe a nota for menor que 6.0, deve exibir a nota F.\n",
        "•\tSe a nota for de 6.0 até 7.0, deve exibir a nota D.\n",
        "•\tSe a nota for entre 7.0 e 8.0, deve exibir a nota C.\n",
        "•\tSe a nota for entre 8.0 e 9.0, deve exibir a nota B.\n",
        "•\tPor fim, se for entre 9.0 e 10.0, deve exibir um belo de um A.\n",
        "'''\n",
        "\n",
        "nota = float(input(\"insira a nota: \")) \n",
        "while nota > 10 or nota < 0:\n",
        "  print(\"nova invalida\")\n",
        "  nota = float(input(\"insira a nota: \")) \n",
        "\n",
        "if nota >= 9:\n",
        "  print(\" A \")\n",
        "elif 8 <= nota < 9:\n",
        "  print(\" B \")\n",
        "elif 7 <= nota < 8:\n",
        "  print(\" C \")\n",
        "elif 6 <= nota < 7:\n",
        "  print(\" D \")\n",
        "else:\n",
        "  print(\" F \") \n"
      ],
      "execution_count": 58,
      "outputs": [
        {
          "output_type": "stream",
          "text": [
            "insira a nota:9\n",
            " A \n"
          ],
          "name": "stdout"
        }
      ]
    },
    {
      "cell_type": "code",
      "metadata": {
        "colab": {
          "base_uri": "https://localhost:8080/"
        },
        "id": "GYltovsqMvSB",
        "outputId": "4e455d2e-bab3-4ab3-c743-891ff847d348"
      },
      "source": [
        "#Faça um Programa que verifique se uma letra digitada é vogal ou consoante.\n",
        "l=input(\"Diga uma letra para saber se é vogal ou consoante, caso você não saiba, não é: \").lower()\n",
        "if l==\"a\" or l==\"e\" or l==\"i\" or l==\"o\" or l==\"u\":\n",
        "  print(\"é vogal, é vogal\")\n",
        "else:\n",
        "  print(\"essa é consoante\")"
      ],
      "execution_count": 66,
      "outputs": [
        {
          "output_type": "stream",
          "text": [
            "Diga uma letra para saber se é vogal ou consoante, caso você não saiba, não é: j\n",
            "essa é consoante\n"
          ],
          "name": "stdout"
        }
      ]
    }
  ]
}