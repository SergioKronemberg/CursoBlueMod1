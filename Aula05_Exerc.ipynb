{
  "nbformat": 4,
  "nbformat_minor": 0,
  "metadata": {
    "colab": {
      "name": "Aula05_Exerc.ipynb",
      "provenance": [],
      "collapsed_sections": [],
      "authorship_tag": "ABX9TyOsVD99EmL2pKbszxj79R4Z",
      "include_colab_link": true
    },
    "kernelspec": {
      "name": "python3",
      "display_name": "Python 3"
    },
    "language_info": {
      "name": "python"
    }
  },
  "cells": [
    {
      "cell_type": "markdown",
      "metadata": {
        "id": "view-in-github",
        "colab_type": "text"
      },
      "source": [
        "<a href=\"https://colab.research.google.com/github/SergioKronemberg/CursoBlueMod1/blob/main/Aula05_Exerc.ipynb\" target=\"_parent\"><img src=\"https://colab.research.google.com/assets/colab-badge.svg\" alt=\"Open In Colab\"/></a>"
      ]
    },
    {
      "cell_type": "code",
      "metadata": {
        "colab": {
          "base_uri": "https://localhost:8080/"
        },
        "id": "iSobdot5qcdF",
        "outputId": "b5c925e6-38eb-4bad-ce11-1423ed1faefa"
      },
      "source": [
        "#Faça um Programa que leia três números inteiros, em seguida mostre o maior e o menor deles\n",
        "\n",
        "n1= int(input(\"1º\"))\n",
        "n2= int(input(\"2º\"))\n",
        "n3= int(input(\"3º\"))\n",
        "\n",
        "if n1 > n2 and n1 > n3:\n",
        "  maior = n1\n",
        "elif n2 > n3 and n2 > n1:\n",
        "  maior = n2\n",
        "elif n3 > n1 and n3 > n2:\n",
        "  maior = n3\n",
        "\n",
        "if n1 < n2 and n1 < n3:\n",
        "  menor = n1\n",
        "elif n2 < n1 and n2 < n3:\n",
        "  menor = n2\n",
        "elif n3 < n1 and n3 < n2:\n",
        "  menor = n3\n",
        "\n",
        "print(f\" O maior é o {maior}, e o menor é o {menor}\")#kkk\n",
        "\n",
        "\n",
        "'''outra forma\n",
        "maior = n1\n",
        "\n",
        "if n2 > maior:\n",
        "  maior = n2\n",
        "if n3 > maior:\n",
        "  maior = n3\n",
        "\n",
        "menor = n1\n",
        "\n",
        "if n2 < menor:\n",
        "  menor = n2\n",
        "if n3 < menor:\n",
        "  menor = n3\n",
        "\n",
        "print(f\" O maior é o {maior}, e o menor é o {menor}\")'''"
      ],
      "execution_count": 9,
      "outputs": [
        {
          "output_type": "stream",
          "text": [
            "1º3\n",
            "2º6\n",
            "3º8\n",
            "Maior:  8\n",
            "3\n"
          ],
          "name": "stdout"
        }
      ]
    },
    {
      "cell_type": "code",
      "metadata": {
        "id": "ZzuCF6Azz96L",
        "colab": {
          "base_uri": "https://localhost:8080/"
        },
        "outputId": "03ad6718-e9ac-442c-aaa9-f418f766c95a"
      },
      "source": [
        "#Faça um programa que peça dois números e imprima o maior deles\n",
        "\n",
        "v1=float(input(\"1º\"))\n",
        "v2=float(input(\"2º\"))\n",
        "\n",
        "if v1 > v2:\n",
        "  maior = v1\n",
        "else:\n",
        "  maior = v2\n",
        "\n",
        "print(f\" O maior é o {maior}\")"
      ],
      "execution_count": 13,
      "outputs": [
        {
          "output_type": "stream",
          "text": [
            "1º7\n",
            "2º8\n",
            " O maior é o 8.0\n"
          ],
          "name": "stdout"
        }
      ]
    },
    {
      "cell_type": "code",
      "metadata": {
        "id": "OD_127KQzo2W",
        "colab": {
          "base_uri": "https://localhost:8080/"
        },
        "outputId": "428932c0-b5a8-423d-94ce-932a40cf726c"
      },
      "source": [
        "#Faça um script que peça um valor e mostre na tela se o valor é positivo ou negativo.\n",
        "p1=float(input(\"Insira um numero que eu te digo se é positivo:\"))\n",
        "if p1 > 0:\n",
        "  print(\"Positivo! energias boas estão por vir\")\n",
        "else:\n",
        "  print(\"não seja negativo, não desanime!\")\n",
        "  p2=float(input(\"Quer tentar denovo? insira um numero\"))\n",
        "  if p2 == p1:\n",
        "   print(\"Você podia ter tentado outro numero pelo menos\")\n",
        "  elif p2 <= 0:\n",
        "   print(\"Tudo bem! mas não seja tão negativo da próxima vez\")\n",
        "  elif p2 > 0:\n",
        "   print(\"Positivo! energias boas estão por vir\")"
      ],
      "execution_count": 36,
      "outputs": [
        {
          "output_type": "stream",
          "text": [
            "Insira um numero que eu te digo se é positivo:-9\n",
            "não seja negativo, não desanime!\n",
            "Quer tentar denovo? insira um numero3\n",
            "Positivo! energias boas estão por vir\n"
          ],
          "name": "stdout"
        }
      ]
    }
  ]
}