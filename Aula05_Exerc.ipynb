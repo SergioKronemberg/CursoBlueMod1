{
  "nbformat": 4,
  "nbformat_minor": 0,
  "metadata": {
    "colab": {
      "name": "Aula05_Exerc.ipynb",
      "provenance": [],
      "collapsed_sections": [],
      "authorship_tag": "ABX9TyMoWPpPwMI2i0WbmmePGCYo",
      "include_colab_link": true
    },
    "kernelspec": {
      "name": "python3",
      "display_name": "Python 3"
    },
    "language_info": {
      "name": "python"
    }
  },
  "cells": [
    {
      "cell_type": "markdown",
      "metadata": {
        "id": "view-in-github",
        "colab_type": "text"
      },
      "source": [
        "<a href=\"https://colab.research.google.com/github/SergioKronemberg/CursoBlueMod1/blob/main/Aula05_Exerc.ipynb\" target=\"_parent\"><img src=\"https://colab.research.google.com/assets/colab-badge.svg\" alt=\"Open In Colab\"/></a>"
      ]
    },
    {
      "cell_type": "code",
      "metadata": {
        "colab": {
          "base_uri": "https://localhost:8080/"
        },
        "id": "iSobdot5qcdF",
        "outputId": "b5c925e6-38eb-4bad-ce11-1423ed1faefa"
      },
      "source": [
        "#Faça um Programa que leia três números inteiros, em seguida mostre o maior e o menor deles\n",
        "\n",
        "n1= int(input(\"1º\"))\n",
        "n2= int(input(\"2º\"))\n",
        "n3= int(input(\"3º\"))\n",
        "\n",
        "if n1 > n2 and n1 > n3:\n",
        "  maior = n1\n",
        "elif n2 > n3 and n2 > n1:\n",
        "  maior = n2\n",
        "elif n3 > n1 and n3 > n2:\n",
        "  maior = n3\n",
        "\n",
        "if n1 < n2 and n1 < n3:\n",
        "  menor = n1\n",
        "elif n2 < n1 and n2 < n3:\n",
        "  menor = n2\n",
        "elif n3 < n1 and n3 < n2:\n",
        "  menor = n3\n",
        "\n",
        "print(f\" O maior é o {maior}, e o menor é o {menor}\")#kkk\n",
        "\n",
        "\n",
        "'''outra forma\n",
        "maior = n1\n",
        "\n",
        "if n2 > maior:\n",
        "  maior = n2\n",
        "if n3 > maior:\n",
        "  maior = n3\n",
        "\n",
        "menor = n1\n",
        "\n",
        "if n2 < menor:\n",
        "  menor = n2\n",
        "if n3 < menor:\n",
        "  menor = n3\n",
        "\n",
        "print(f\" O maior é o {maior}, e o menor é o {menor}\")'''"
      ],
      "execution_count": null,
      "outputs": [
        {
          "output_type": "stream",
          "text": [
            "1º3\n",
            "2º6\n",
            "3º8\n",
            "Maior:  8\n",
            "3\n"
          ],
          "name": "stdout"
        }
      ]
    },
    {
      "cell_type": "code",
      "metadata": {
        "id": "ZzuCF6Azz96L",
        "colab": {
          "base_uri": "https://localhost:8080/"
        },
        "outputId": "03ad6718-e9ac-442c-aaa9-f418f766c95a"
      },
      "source": [
        "#Faça um programa que peça dois números e imprima o maior deles\n",
        "\n",
        "v1=float(input(\"1º\"))\n",
        "v2=float(input(\"2º\"))\n",
        "\n",
        "if v1 > v2:\n",
        "  maior = v1\n",
        "else:\n",
        "  maior = v2\n",
        "\n",
        "print(f\"O maior é o {maior}\")"
      ],
      "execution_count": null,
      "outputs": [
        {
          "output_type": "stream",
          "text": [
            "1º7\n",
            "2º8\n",
            " O maior é o 8.0\n"
          ],
          "name": "stdout"
        }
      ]
    },
    {
      "cell_type": "code",
      "metadata": {
        "id": "OD_127KQzo2W",
        "colab": {
          "base_uri": "https://localhost:8080/"
        },
        "outputId": "428932c0-b5a8-423d-94ce-932a40cf726c"
      },
      "source": [
        "#Faça um script que peça um valor e mostre na tela se o valor é positivo ou negativo.\n",
        "p1=float(input(\"Insira um número que eu te digo se é positivo: \"))\n",
        "if p1 > 0:\n",
        "  print(\"Positivo! energias boas estão por vir\")\n",
        "else:\n",
        "  print(\"não seja negativo, não desanime!\")\n",
        "  p2=float(input(\"Quer tentar denovo? insira outro número: \"))\n",
        "  if p2 == p1:\n",
        "   print(\"Você podia ter tentado outro número pelo menos\")\n",
        "  elif p2 <= 0:\n",
        "   print(\"Tudo bem! mas não seja tão negativo da próxima vez\")\n",
        "  elif p2 > 0:\n",
        "   print(\"Positivo! energias boas estão por vir\")"
      ],
      "execution_count": null,
      "outputs": [
        {
          "output_type": "stream",
          "text": [
            "Insira um numero que eu te digo se é positivo:-9\n",
            "não seja negativo, não desanime!\n",
            "Quer tentar denovo? insira um numero3\n",
            "Positivo! energias boas estão por vir\n"
          ],
          "name": "stdout"
        }
      ]
    },
    {
      "cell_type": "code",
      "metadata": {
        "colab": {
          "base_uri": "https://localhost:8080/"
        },
        "id": "5chzFF1cEf8J",
        "outputId": "e6c6b4e3-e4a2-4c69-d788-56758c26e454"
      },
      "source": [
        "#Crie um programa que verifique se uma letra digitada é \"F\" ou \"M\". Conforme a letra escrever: F - Feminino, M - Masculino, Sexo Inválido.\n",
        "S1=input(\"Qual seu genêro: \").upper()\n",
        "if S1[0] == \"F\":\n",
        "  print(\"F - Feminino\") \n",
        "elif S1[0] == \"M\":\n",
        "  print(\"M - Masculino\")\n",
        "else:\n",
        "   print(\"Sexo inválido\")"
      ],
      "execution_count": null,
      "outputs": [
        {
          "output_type": "stream",
          "text": [
            "Qual seu genêro:mas\n",
            "M - Masculino\n"
          ],
          "name": "stdout"
        }
      ]
    },
    {
      "cell_type": "code",
      "metadata": {
        "colab": {
          "base_uri": "https://localhost:8080/"
        },
        "id": "xL2GaDaDJA-H",
        "outputId": "b94f0b1c-9164-4e49-ef26-fe860a50ddae"
      },
      "source": [
        "'''- Crie um programa em Python que peça a nota do aluno, que deve ser um float entre 0.00 e 10.0\n",
        "•\tSe a nota for menor que 6.0, deve exibir a nota F.\n",
        "•\tSe a nota for de 6.0 até 7.0, deve exibir a nota D.\n",
        "•\tSe a nota for entre 7.0 e 8.0, deve exibir a nota C.\n",
        "•\tSe a nota for entre 8.0 e 9.0, deve exibir a nota B.\n",
        "•\tPor fim, se for entre 9.0 e 10.0, deve exibir um belo de um A.\n",
        "'''\n",
        "\n",
        "nota = float(input(\"insira a nota: \")) \n",
        "while nota > 10 or nota < 0:\n",
        "  print(\"nova invalida\")\n",
        "  nota = float(input(\"insira a nota: \")) \n",
        "\n",
        "if nota >= 9:\n",
        "  print(\" A \")\n",
        "elif 8 <= nota < 9:\n",
        "  print(\" B \")\n",
        "elif 7 <= nota < 8:\n",
        "  print(\" C \")\n",
        "elif 6 <= nota < 7:\n",
        "  print(\" D \")\n",
        "else:\n",
        "  print(\" F \") \n"
      ],
      "execution_count": null,
      "outputs": [
        {
          "output_type": "stream",
          "text": [
            "insira a nota:9\n",
            " A \n"
          ],
          "name": "stdout"
        }
      ]
    },
    {
      "cell_type": "code",
      "metadata": {
        "colab": {
          "base_uri": "https://localhost:8080/"
        },
        "id": "GYltovsqMvSB",
        "outputId": "4e455d2e-bab3-4ab3-c743-891ff847d348"
      },
      "source": [
        "#Faça um Programa que verifique se uma letra digitada é vogal ou consoante.\n",
        "l=input(\"Diga uma letra para saber se é vogal ou consoante, caso você não saiba, não é: \").lower()\n",
        "if l==\"a\" or l==\"e\" or l==\"i\" or l==\"o\" or l==\"u\":\n",
        "  print(\"é vogal, é vogal\")\n",
        "else:\n",
        "  print(\"essa é consoante\")"
      ],
      "execution_count": null,
      "outputs": [
        {
          "output_type": "stream",
          "text": [
            "Diga uma letra para saber se é vogal ou consoante, caso você não saiba, não é: j\n",
            "essa é consoante\n"
          ],
          "name": "stdout"
        }
      ]
    },
    {
      "cell_type": "code",
      "metadata": {
        "colab": {
          "base_uri": "https://localhost:8080/"
        },
        "id": "u-izg6BUPtIU",
        "outputId": "e2b88d48-ba57-4e2b-b82f-9241832e1534"
      },
      "source": [
        "'''PROJETO 1\n",
        "Resultado da primeira/segunda aula em Python:\n",
        "•\tEscreva um programa que receba uma string digitada pelo usuário;\n",
        "•\tCaso a string seja \"medieval\", exiba no console \"espada\";\n",
        "•\tCaso contrário, se a string for \"futurista\", exiba no console \"sabre de luz\";\n",
        "•\tCaso contrário, exiba no console \"Tente novamente'''\n",
        "\n",
        "modo=input(\"Selecione modo medieval ou futurista: \").lower()\n",
        "while modo != \"futurista\" and modo != \"medieval\":\n",
        "  print(\"tente novamente\")\n",
        "  modo=input(\"Selecione modo medieval ou futurista: \").lower()\n",
        "\n",
        "if modo == \"medieval\":\n",
        "  print(\"Espada, chuin!\")\n",
        "if modo == \"futurista\":\n",
        "  print(\"Sabre de luz, zuon!\")"
      ],
      "execution_count": null,
      "outputs": [
        {
          "output_type": "stream",
          "text": [
            "Selecione modo medieval ou futurista: western\n",
            "tente novamente\n",
            "Selecione modo medieval ou futurista: medieval\n",
            "Espada, chuin!\n"
          ],
          "name": "stdout"
        }
      ]
    },
    {
      "cell_type": "code",
      "metadata": {
        "id": "KgGd6WobViJ_",
        "colab": {
          "base_uri": "https://localhost:8080/"
        },
        "outputId": "73f02e5e-2c22-407d-9931-b77d246e2cd7"
      },
      "source": [
        "'''Continuação do PROJETO 1\n",
        "•\tEscreva um programa que receba um ataque de espada ou sabre digitada pelo usuário;\n",
        "•\tCaso o ataque seja \"espada\", exiba no console \"VOCÊ AINDA NÃO MATOU O CHEFÃO\";\n",
        "•\tCaso contrário, se o ataque for \"sabre\", exiba no console \"VOCÊ DERROTOU O CHEFÃO COM O SABRE DE LUZ\";\n",
        "•\tCaso contrário, exiba no console \"ATAQUE NOVAMENTE\"\n",
        "'''\n",
        "x=input('''O chefão aparece na sua frente\n",
        "Qual arma você vai usar:                          \n",
        "Espada, digite 1\n",
        "Sabre de luz, digite 2\n",
        "''')\n",
        "while x != \"1\" and x != \"2\":\n",
        "  print(\"ATAQUE NOVAMENTE\")\n",
        "  x=input('''Qual arma você vai usar:                          \n",
        "Espada, digite 1\n",
        "Sabre de luz, digite 2\n",
        "''')\n",
        "if x == \"1\":\n",
        "  print(\"VOCÊ AINDA NÃO MATOU O CHEFÃO\")\n",
        "elif x ==\"2\":\n",
        "  print(\"VOCÊ DERROTOU O CHEFÃO COM O SABRE DE LUZ\")\n"
      ],
      "execution_count": null,
      "outputs": [
        {
          "output_type": "stream",
          "text": [
            "O chefão aparece na sua frente\n",
            "Qual arma você vai usar:                          \n",
            "Espada, digite 1\n",
            "Sabre de luz, digite 2\n",
            "3\n",
            "ATAQUE NOVAMENTE\n",
            "Qual arma você vai usar:                          \n",
            "Espada, digite 1\n",
            "Sabre de luz, digite 2\n",
            "2\n",
            "VOCÊ DERROTOU O CHEFÃO COM O SABRE DE LUZ\n"
          ],
          "name": "stdout"
        }
      ]
    },
    {
      "cell_type": "code",
      "metadata": {
        "colab": {
          "base_uri": "https://localhost:8080/"
        },
        "id": "NLI81VIRdmMA",
        "outputId": "c80f4cf6-b5a3-45d8-ad85-9dd93eb3ecc6"
      },
      "source": [
        "'''DESAFIO - As empresas @.com resolveram dar um aumento de salário aos seus colaboradores e lhe contrataram para desenvolver o programa que calculará os reajustes.\n",
        "\n",
        "Faça um programa que recebe o salário de um colaborador e o reajuste segundo o seguinte critério, baseado no salário atual:\n",
        "•\tsalários até R$ 280,00 (incluindo) : aumento de 20%\n",
        "•\tsalários entre R$ 280,00 e R$ 700,00 : aumento de 15%\n",
        "•\tsalários entre R$ 700,00 e R$ 1500,00 : aumento de 10%\n",
        "•\tsalários de R$ 1500,00 em diante : aumento de 5%\n",
        "Após o aumento ser realizado, informe na tela:\n",
        "•\to salário antes do reajuste;\n",
        "•\to percentual de aumento aplicado;\n",
        "•\to valor do aumento;\n",
        "•\to novo salário, após o aumento.\"'''\n",
        "\n",
        "s=float(input(\"Insira o salário:\"))\n",
        "if s <= 280:\n",
        "  a=s*20/100\n",
        "  f=s+a\n",
        "  print(f'''\n",
        "salário antes do reajuste: R${s:.2f}\n",
        "percentual de aumento aplicado: 20%\n",
        "valor do aumento: R${a:.2f}\n",
        "novo salário, após o aumento: R${f:.2f}\n",
        "''')\n",
        "elif 280 < s <= 700:\n",
        "  a=s*15/100\n",
        "  f=s+a\n",
        "  print(f\"salário antes do reajuste: R${s:.2f}\\npercentual de aumento aplicado: 15%\\nvalor do aumento: R${a:.2f} \\nnovo salário, após o aumento: R${f:.2f}\")\n",
        "elif 700 < s <= 1500:\n",
        "  a=s*10/100\n",
        "  f=s+a\n",
        "  print(f\"salário antes do reajuste: R${s:.2f}\\npercentual de aumento aplicado: 10%\\nvalor do aumento: R${a:.2f} \\nnovo salário, após o aumento: R${f:.2f}\")\n",
        "elif 1500 < s:\n",
        "  a=s*5/100\n",
        "  f=s+a\n",
        "  print(f\"salário antes do reajuste: R${s:.2f}\\npercentual de aumento aplicado: 5%\\nvalor do aumento: R${a:.2f} \\nnovo salário, após o aumento: R${f:.2f}\")\n"
      ],
      "execution_count": null,
      "outputs": [
        {
          "output_type": "stream",
          "text": [
            "Insira o salário:2000\n",
            "salário antes do reajuste: R$2000.00\n",
            "percentual de aumento aplicado: 5%\n",
            "valor do aumento: R$100.00 \n",
            "novo salário, após o aumento: R$2100.00\n"
          ],
          "name": "stdout"
        }
      ]
    },
    {
      "cell_type": "code",
      "metadata": {
        "colab": {
          "base_uri": "https://localhost:8080/"
        },
        "id": "9b6wuHWnqpPe",
        "outputId": "d619b8e2-0dc7-41e0-9472-fe1ea58cb1da"
      },
      "source": [
        "'''DESAFIO\n",
        "Faça um Programa para um caixa eletrônico. O programa deverá perguntar ao usuário a valor do saque e depois informar quantas notas de cada valor serão fornecidas. As notas disponíveis serão as de 1, 5, 10, 50 e 100 reais. O valor mínimo é de 10 reais e o máximo de 600 reais. O programa não deve se preocupar com a quantidade de notas existentes na máquina.\n",
        "•\tExemplo 1: Para sacar a quantia de 256 reais, o programa fornece duas notas de 100, uma nota de 50, uma nota de 5 e uma nota de 1;\n",
        "•\tExemplo 2: Para sacar a quantia de 399 reais, o programa fornece três notas de 100, uma nota de 50, quatro notas de 10, uma nota de 5 e quatro notas de 1.'''\n",
        "\n",
        "c=int(input(\"Qual valor você deseja sacar, min 10 e max 600: \"))\n",
        "n100=0\n",
        "n50=0\n",
        "n10=0\n",
        "n5=0\n",
        "n1=0\n",
        "while c < 10 or c > 600:\n",
        "  print(\"Valor inválido\")\n",
        "  c=int(input(\"Qual valor você deseja sacar, min 10 e max 600: \")) \n",
        "while c >= 100:\n",
        "  n100= n100 + 1\n",
        "  c = c - 100\n",
        "while 100 > c >=50:\n",
        "  n50=n50+ 1\n",
        "  c=c-50\n",
        "while 50 > c >=10:\n",
        "  n10=n10+1\n",
        "  c=c-10\n",
        "while 10 > c >= 5:\n",
        "  n5=n5+1\n",
        "  c=c-5\n",
        "while c >= 1:\n",
        "  n1=n1+1\n",
        "  c=c-1\n",
        "print(f\"{n100} notas de 100, {n50} notas de 50, {n10} notas de 10, {n5} notas de 5 e {n1} notas de 1\")\n",
        "\n"
      ],
      "execution_count": null,
      "outputs": [
        {
          "output_type": "stream",
          "text": [
            "Qual valor você deseja sacar, min 10 e max 600: 601\n",
            "Valor inválido\n",
            "Qual valor você deseja sacar, min 10 e max 600: 599\n",
            "5 notas de 100, 1 notas de 50, 4 notas de 10, 1 notas de 5 e 4 notas de 1\n"
          ],
          "name": "stdout"
        }
      ]
    }
  ]
}